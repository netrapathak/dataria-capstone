{
  "nbformat": 4,
  "nbformat_minor": 0,
  "metadata": {
    "kernelspec": {
      "display_name": "Python 3",
      "language": "python",
      "name": "python3"
    },
    "language_info": {
      "codemirror_mode": {
        "name": "ipython",
        "version": 3
      },
      "file_extension": ".py",
      "mimetype": "text/x-python",
      "name": "python",
      "nbconvert_exporter": "python",
      "pygments_lexer": "ipython3",
      "version": "3.7.4"
    },
    "colab": {
      "name": "Clean_vertical_to_patent (1).ipynb",
      "provenance": [],
      "collapsed_sections": [],
      "include_colab_link": true
    }
  },
  "cells": [
    {
      "cell_type": "markdown",
      "metadata": {
        "id": "view-in-github",
        "colab_type": "text"
      },
      "source": [
        "<a href=\"https://colab.research.google.com/github/netrapathak/dataria-capstone/blob/master/Clean_vertical_to_patent_(1).ipynb\" target=\"_parent\"><img src=\"https://colab.research.google.com/assets/colab-badge.svg\" alt=\"Open In Colab\"/></a>"
      ]
    },
    {
      "cell_type": "code",
      "metadata": {
        "id": "9u3KRXQin1UX",
        "colab_type": "code",
        "colab": {},
        "outputId": "4fbbbac6-6edf-48ef-e053-21266f8d5861"
      },
      "source": [
        "import pandas as pd\n",
        "import numpy as np\n",
        "import os\n",
        "from cleanco import cleanco\n",
        "import re\n",
        "import unicodedata\n",
        "!pip install ftfy\n",
        "from ftfy import fix_text\n",
        "import sys\n",
        "import nltk\n",
        "from sklearn.feature_extraction.text import TfidfVectorizer\n",
        "import numpy as np\n",
        "from sklearn.metrics.pairwise import cosine_similarity\n",
        "from scipy.sparse import csr_matrix\n",
        "!pip install sparse_dot_topn \n",
        "import sparse_dot_topn.sparse_dot_topn as ct\n",
        "!pip install mysql-connector-python\n",
        "import mysql.connector"
      ],
      "execution_count": 0,
      "outputs": [
        {
          "output_type": "stream",
          "text": [
            "Requirement already satisfied: ftfy in /opt/anaconda3/lib/python3.7/site-packages (5.7)\n",
            "Requirement already satisfied: wcwidth in /opt/anaconda3/lib/python3.7/site-packages (from ftfy) (0.1.7)\n",
            "\u001b[33mWARNING: You are using pip version 20.0.2; however, version 20.1 is available.\n",
            "You should consider upgrading via the '/opt/anaconda3/bin/python -m pip install --upgrade pip' command.\u001b[0m\n",
            "Requirement already satisfied: sparse_dot_topn in /opt/anaconda3/lib/python3.7/site-packages (0.2.9)\n",
            "Requirement already satisfied: numpy>=1.16.6 in /opt/anaconda3/lib/python3.7/site-packages (from sparse_dot_topn) (1.18.1)\n",
            "Requirement already satisfied: setuptools>=18.0 in /opt/anaconda3/lib/python3.7/site-packages (from sparse_dot_topn) (41.4.0)\n",
            "Requirement already satisfied: scipy>=1.2.3 in /opt/anaconda3/lib/python3.7/site-packages (from sparse_dot_topn) (1.4.1)\n",
            "Requirement already satisfied: cython>=0.29.15 in /opt/anaconda3/lib/python3.7/site-packages (from sparse_dot_topn) (0.29.16)\n",
            "\u001b[33mWARNING: You are using pip version 20.0.2; however, version 20.1 is available.\n",
            "You should consider upgrading via the '/opt/anaconda3/bin/python -m pip install --upgrade pip' command.\u001b[0m\n"
          ],
          "name": "stdout"
        }
      ]
    },
    {
      "cell_type": "code",
      "metadata": {
        "id": "lmImCjVen1Ud",
        "colab_type": "code",
        "colab": {}
      },
      "source": [
        "#USPTO Data. No need to change.\n",
        "uspto = pd.read_csv('uspto.csv', dtype='unicode')\n",
        "#This stores the emerging spaces csv data. Change this to find matches with USPTO data.\n",
        "ai_vert = pd.read_csv('ai_drug_disc_vert.csv', dtype='unicode')"
      ],
      "execution_count": 0,
      "outputs": []
    },
    {
      "cell_type": "code",
      "metadata": {
        "id": "sX8LGUsFn1Ug",
        "colab_type": "code",
        "colab": {}
      },
      "source": [
        "#Run this\n",
        "def ngrams(string, n=3):\n",
        "    string = fix_text(string) \n",
        "    string = string.encode(\"ascii\", errors=\"ignore\").decode() \n",
        "    string = string.lower() \n",
        "    chars_to_remove = [\")\",\"(\",\".\",\"|\",\"[\",\"]\",\"{\",\"}\",\"'\"]\n",
        "    rx = '[' + re.escape(''.join(chars_to_remove)) + ']'\n",
        "    string = re.sub(rx, '', string) \n",
        "    string = string.replace('&', 'and')\n",
        "    string = string.replace(',', ' ')\n",
        "    string = string.replace('-', ' ')\n",
        "    string = string.title() \n",
        "    string = re.sub(' +',' ',string).strip()\n",
        "    string = ' '+ string +' ' \n",
        "    string = re.sub(r'[,-./]|\\sBD',r'', string)\n",
        "    ngrams = zip(*[string[i:] for i in range(n)])\n",
        "    return [''.join(ngram) for ngram in ngrams]"
      ],
      "execution_count": 0,
      "outputs": []
    },
    {
      "cell_type": "code",
      "metadata": {
        "id": "LQ0yI_wQn1Ui",
        "colab_type": "code",
        "colab": {}
      },
      "source": [
        "#Run this.\n",
        "company_names = uspto['organization']\n",
        "vectorizer = TfidfVectorizer(min_df=1, analyzer=ngrams)\n",
        "tf_idf_matrix = vectorizer.fit_transform(company_names.values.astype('U'))"
      ],
      "execution_count": 0,
      "outputs": []
    },
    {
      "cell_type": "code",
      "metadata": {
        "id": "txSKPFChn1Ul",
        "colab_type": "code",
        "colab": {}
      },
      "source": [
        "#Change column name or df name as required for each emerging space data. \n",
        "company = ai_vert['Company Legal Name']\n",
        "tf_idf_matrix_alt = vectorizer.fit_transform(company.values.astype('U'))"
      ],
      "execution_count": 0,
      "outputs": []
    },
    {
      "cell_type": "code",
      "metadata": {
        "id": "Evdy_JIWn1Uo",
        "colab_type": "code",
        "colab": {}
      },
      "source": [
        "(ai_vert[ai_vert['Company Name'] == 'Neon Therapeutics'])"
      ],
      "execution_count": 0,
      "outputs": []
    },
    {
      "cell_type": "code",
      "metadata": {
        "id": "ehK-HK6_n1Uq",
        "colab_type": "code",
        "colab": {}
      },
      "source": [
        "#Don't run this\n",
        "def awesome_cossim_top(A, B, ntop, lower_bound=0):\n",
        "    A = A.tocsr()\n",
        "    B = B.tocsr()\n",
        "    M, _ = A.shape\n",
        "    _, N = B.shape\n",
        " \n",
        "    idx_dtype = np.int32\n",
        " \n",
        "    nnz_max = M*ntop\n",
        " \n",
        "    indptr = np.zeros(M+1, dtype=idx_dtype)\n",
        "    indices = np.zeros(nnz_max, dtype=idx_dtype)\n",
        "    data = np.zeros(nnz_max, dtype=A.dtype)\n",
        "    ct.sparse_dot_topn(\n",
        "        M, N, np.asarray(A.indptr, dtype=idx_dtype),\n",
        "        np.asarray(A.indices, dtype=idx_dtype),\n",
        "        A.data,\n",
        "        np.asarray(B.indptr, dtype=idx_dtype),\n",
        "        np.asarray(B.indices, dtype=idx_dtype),\n",
        "        B.data,\n",
        "        ntop,\n",
        "        lower_bound,\n",
        "        indptr, indices, data)\n",
        "    return csr_matrix((data,indices,indptr),shape=(M,N))"
      ],
      "execution_count": 0,
      "outputs": []
    },
    {
      "cell_type": "code",
      "metadata": {
        "id": "Ijehs1-Jn1Ut",
        "colab_type": "code",
        "colab": {}
      },
      "source": [
        "#Don't run this\n",
        "import time\n",
        "t1 = time.time()\n",
        "matches = awesome_cossim_top(tf_idf_matrix, tf_idf_matrix.transpose(), 10, 0.8)\n",
        "t = time.time()-t1\n",
        "print(\"SELFTIMED:\", t)"
      ],
      "execution_count": 0,
      "outputs": []
    },
    {
      "cell_type": "code",
      "metadata": {
        "id": "t7Y-LbGHn1Uv",
        "colab_type": "code",
        "colab": {}
      },
      "source": [
        "#Don't Run this\n",
        "def get_matches_df(sparse_matrix, name_vector, top=1000):\n",
        "    non_zeros = sparse_matrix.nonzero()\n",
        "    \n",
        "    sparserows = non_zeros[0]\n",
        "    sparsecols = non_zeros[1]\n",
        "    \n",
        "    if top:\n",
        "        nr_matches = top\n",
        "    else:\n",
        "        nr_matches = sparsecols.size\n",
        "    \n",
        "    left_side = np.empty([nr_matches], dtype=object)\n",
        "    right_side = np.empty([nr_matches], dtype=object)\n",
        "    similairity = np.zeros(nr_matches)\n",
        "    \n",
        "    for index in range(0, nr_matches):\n",
        "        left_side[index] = name_vector[sparserows[index]]\n",
        "        right_side[index] = name_vector[sparsecols[index]]\n",
        "        similairity[index] = sparse_matrix.data[index]\n",
        "    \n",
        "    return pd.DataFrame({'left_side': left_side,\n",
        "                          'right_side': right_side,\n",
        "                           'similairity': similairity})"
      ],
      "execution_count": 0,
      "outputs": []
    },
    {
      "cell_type": "code",
      "metadata": {
        "id": "EGFZfuMwn1Ux",
        "colab_type": "code",
        "colab": {}
      },
      "source": [
        "#Don't Run this\n",
        "matches_df = get_matches_df(matches, company)\n",
        "matches_df = matches_df[matches_df['similairity'] > 0.80] # Remove all exact matches\n",
        "matches_df.sample(50)"
      ],
      "execution_count": 0,
      "outputs": []
    },
    {
      "cell_type": "code",
      "metadata": {
        "id": "H0WHoZ1In1Uz",
        "colab_type": "code",
        "colab": {},
        "outputId": "241f494a-a1a1-4cc5-f2c0-f7d771a8f8cc"
      },
      "source": [
        "#Run this\n",
        "org_name_clean = ai_vert['Company Legal Name']\n",
        "vectorizer = TfidfVectorizer(min_df=1, analyzer=ngrams, lowercase=False)\n",
        "tfidf = vectorizer.fit_transform(org_name_clean.astype('U'))\n",
        "print('Vecorizing completed...')\n",
        "from sklearn.neighbors import NearestNeighbors\n",
        "nbrs = NearestNeighbors(n_neighbors=1, n_jobs=-1).fit(tfidf)\n",
        "org_column = uspto['organization'] #column to match against in the messy data\n",
        "\n",
        "unique_org = set(org_column.astype('U')) \n",
        "\n",
        "def getNearestN(query):\n",
        "    queryTFIDF_ = vectorizer.transform(query)\n",
        "    distances, indices = nbrs.kneighbors(queryTFIDF_)\n",
        "    return distances, indices\n",
        "\n",
        "import time\n",
        "t1 = time.time()\n",
        "print('getting nearest n...')\n",
        "distances, indices = getNearestN(unique_org)\n",
        "t = time.time()-t1\n",
        "print(\"COMPLETED IN:\", t)\n",
        "unique_org = list(unique_org) \n"
      ],
      "execution_count": 0,
      "outputs": [
        {
          "output_type": "stream",
          "text": [
            "Vecorizing completed...\n",
            "getting nearest n...\n",
            "COMPLETED IN: 34.626405000686646\n"
          ],
          "name": "stdout"
        }
      ]
    },
    {
      "cell_type": "code",
      "metadata": {
        "id": "GuaWH-6mn1U2",
        "colab_type": "code",
        "colab": {},
        "outputId": "773a8257-100e-4e08-8c38-6d4f58dc98ab"
      },
      "source": [
        "#Run this\n",
        "matches = []\n",
        "for i,j in enumerate(indices):\n",
        "    temp = [round(distances[i][0],2), ai_vert.values[j][0][1],unique_org[i]]\n",
        "    matches.append(temp)\n",
        "print('Building data frame...')  \n",
        "matches = pd.DataFrame(matches, columns=['Match confidence (lower is better)','Matched name','Original name'])\n",
        "print('Done')"
      ],
      "execution_count": 0,
      "outputs": [
        {
          "output_type": "stream",
          "text": [
            "Building data frame...\n",
            "Done\n"
          ],
          "name": "stdout"
        }
      ]
    },
    {
      "cell_type": "code",
      "metadata": {
        "id": "voLNICvZn1U4",
        "colab_type": "code",
        "colab": {}
      },
      "source": [
        "#Run this\n",
        "match = matches.sort_values(by=['Match confidence (lower is better)'])"
      ],
      "execution_count": 0,
      "outputs": []
    },
    {
      "cell_type": "code",
      "metadata": {
        "id": "X7myE8fjn1U6",
        "colab_type": "code",
        "colab": {}
      },
      "source": [
        "#Run this\n",
        "match_1 = match[match['Match confidence (lower is better)'] < 0.41]"
      ],
      "execution_count": 0,
      "outputs": []
    },
    {
      "cell_type": "markdown",
      "metadata": {
        "id": "2eYPQSLnn1U8",
        "colab_type": "text"
      },
      "source": [
        "match_1"
      ]
    },
    {
      "cell_type": "code",
      "metadata": {
        "id": "Ba8m4LKRn1U9",
        "colab_type": "code",
        "colab": {},
        "outputId": "ae7ff7ec-271e-4a49-b4a1-4d5f48b83109"
      },
      "source": [
        "#Run this. The column 'Matched name' is pitchbook company name. 'Original name' is from USPTO. use 'Original name' for \n",
        "# MySQL queries. \n",
        "match_1"
      ],
      "execution_count": 0,
      "outputs": [
        {
          "output_type": "execute_result",
          "data": {
            "text/html": [
              "<div>\n",
              "<style scoped>\n",
              "    .dataframe tbody tr th:only-of-type {\n",
              "        vertical-align: middle;\n",
              "    }\n",
              "\n",
              "    .dataframe tbody tr th {\n",
              "        vertical-align: top;\n",
              "    }\n",
              "\n",
              "    .dataframe thead th {\n",
              "        text-align: right;\n",
              "    }\n",
              "</style>\n",
              "<table border=\"1\" class=\"dataframe\">\n",
              "  <thead>\n",
              "    <tr style=\"text-align: right;\">\n",
              "      <th></th>\n",
              "      <th>Match confidence (lower is better)</th>\n",
              "      <th>Matched name</th>\n",
              "      <th>Original name</th>\n",
              "    </tr>\n",
              "  </thead>\n",
              "  <tbody>\n",
              "    <tr>\n",
              "      <td>373445</td>\n",
              "      <td>0.00</td>\n",
              "      <td>Globavir Biosciences</td>\n",
              "      <td>GLOBAVIR BIOSCIENCES, INC.</td>\n",
              "    </tr>\n",
              "    <tr>\n",
              "      <td>77094</td>\n",
              "      <td>0.00</td>\n",
              "      <td>Perthera</td>\n",
              "      <td>PERTHERA, INC.</td>\n",
              "    </tr>\n",
              "    <tr>\n",
              "      <td>420812</td>\n",
              "      <td>0.00</td>\n",
              "      <td>Evoke Neuroscience</td>\n",
              "      <td>Evoke Neuroscience, Inc.</td>\n",
              "    </tr>\n",
              "    <tr>\n",
              "      <td>384212</td>\n",
              "      <td>0.00</td>\n",
              "      <td>SOM Biotech</td>\n",
              "      <td>SOM INNOVATION BIOTECH, S.L.</td>\n",
              "    </tr>\n",
              "    <tr>\n",
              "      <td>151745</td>\n",
              "      <td>0.00</td>\n",
              "      <td>Numerate</td>\n",
              "      <td>Numerate, Inc.</td>\n",
              "    </tr>\n",
              "    <tr>\n",
              "      <td>369305</td>\n",
              "      <td>0.00</td>\n",
              "      <td>Atomwise</td>\n",
              "      <td>ATOMWISE INC.</td>\n",
              "    </tr>\n",
              "    <tr>\n",
              "      <td>366295</td>\n",
              "      <td>0.00</td>\n",
              "      <td>Kyndi</td>\n",
              "      <td>KYNDI, INC.</td>\n",
              "    </tr>\n",
              "    <tr>\n",
              "      <td>171352</td>\n",
              "      <td>0.00</td>\n",
              "      <td>ThoughtSpot</td>\n",
              "      <td>THOUGHTSPOT, INC.</td>\n",
              "    </tr>\n",
              "    <tr>\n",
              "      <td>316091</td>\n",
              "      <td>0.00</td>\n",
              "      <td>Berkeley Lights</td>\n",
              "      <td>Berkeley Lights, Inc.</td>\n",
              "    </tr>\n",
              "    <tr>\n",
              "      <td>67619</td>\n",
              "      <td>0.00</td>\n",
              "      <td>Arzeda</td>\n",
              "      <td>ARZEDA CORPORATION</td>\n",
              "    </tr>\n",
              "    <tr>\n",
              "      <td>28213</td>\n",
              "      <td>0.00</td>\n",
              "      <td>FDNA</td>\n",
              "      <td>FDNA INC.</td>\n",
              "    </tr>\n",
              "    <tr>\n",
              "      <td>27388</td>\n",
              "      <td>0.00</td>\n",
              "      <td>Molecular Health</td>\n",
              "      <td>MOLECULAR HEALTH GMBH</td>\n",
              "    </tr>\n",
              "    <tr>\n",
              "      <td>7425</td>\n",
              "      <td>0.00</td>\n",
              "      <td>uBiome</td>\n",
              "      <td>uBiome, Inc.</td>\n",
              "    </tr>\n",
              "    <tr>\n",
              "      <td>336047</td>\n",
              "      <td>0.00</td>\n",
              "      <td>Aetion</td>\n",
              "      <td>Aetion, Inc.</td>\n",
              "    </tr>\n",
              "    <tr>\n",
              "      <td>52286</td>\n",
              "      <td>0.00</td>\n",
              "      <td>iLoF</td>\n",
              "      <td>nan</td>\n",
              "    </tr>\n",
              "    <tr>\n",
              "      <td>341875</td>\n",
              "      <td>0.00</td>\n",
              "      <td>Gritstone Oncology (NAS: GRTS)</td>\n",
              "      <td>Gritstone Oncology, Inc.</td>\n",
              "    </tr>\n",
              "    <tr>\n",
              "      <td>311137</td>\n",
              "      <td>0.00</td>\n",
              "      <td>Accutar Biotechnology</td>\n",
              "      <td>Accutar Biotechnology Inc.</td>\n",
              "    </tr>\n",
              "    <tr>\n",
              "      <td>59374</td>\n",
              "      <td>0.00</td>\n",
              "      <td>e-Therapeutics (LON: ETX)</td>\n",
              "      <td>E-Therapeutics PLC</td>\n",
              "    </tr>\n",
              "    <tr>\n",
              "      <td>262740</td>\n",
              "      <td>0.00</td>\n",
              "      <td>Biodesix</td>\n",
              "      <td>Biodesix, Inc.</td>\n",
              "    </tr>\n",
              "    <tr>\n",
              "      <td>231628</td>\n",
              "      <td>0.00</td>\n",
              "      <td>Biovista</td>\n",
              "      <td>BIOVISTA, INC.</td>\n",
              "    </tr>\n",
              "    <tr>\n",
              "      <td>193470</td>\n",
              "      <td>0.00</td>\n",
              "      <td>Meridigen</td>\n",
              "      <td>MERIDIGEN BIOTECH CO., LTD.</td>\n",
              "    </tr>\n",
              "    <tr>\n",
              "      <td>344675</td>\n",
              "      <td>0.00</td>\n",
              "      <td>BERG</td>\n",
              "      <td>Berg LLC</td>\n",
              "    </tr>\n",
              "    <tr>\n",
              "      <td>308124</td>\n",
              "      <td>0.21</td>\n",
              "      <td>Evoke Neuroscience</td>\n",
              "      <td>EVOKE NEUROSCIENCE</td>\n",
              "    </tr>\n",
              "    <tr>\n",
              "      <td>410601</td>\n",
              "      <td>0.31</td>\n",
              "      <td>Immutics</td>\n",
              "      <td>Immutopics, Inc.</td>\n",
              "    </tr>\n",
              "  </tbody>\n",
              "</table>\n",
              "</div>"
            ],
            "text/plain": [
              "        Match confidence (lower is better)                    Matched name  \\\n",
              "373445                                0.00            Globavir Biosciences   \n",
              "77094                                 0.00                        Perthera   \n",
              "420812                                0.00              Evoke Neuroscience   \n",
              "384212                                0.00                     SOM Biotech   \n",
              "151745                                0.00                        Numerate   \n",
              "369305                                0.00                        Atomwise   \n",
              "366295                                0.00                           Kyndi   \n",
              "171352                                0.00                     ThoughtSpot   \n",
              "316091                                0.00                 Berkeley Lights   \n",
              "67619                                 0.00                          Arzeda   \n",
              "28213                                 0.00                            FDNA   \n",
              "27388                                 0.00                Molecular Health   \n",
              "7425                                  0.00                          uBiome   \n",
              "336047                                0.00                          Aetion   \n",
              "52286                                 0.00                            iLoF   \n",
              "341875                                0.00  Gritstone Oncology (NAS: GRTS)   \n",
              "311137                                0.00           Accutar Biotechnology   \n",
              "59374                                 0.00       e-Therapeutics (LON: ETX)   \n",
              "262740                                0.00                        Biodesix   \n",
              "231628                                0.00                        Biovista   \n",
              "193470                                0.00                       Meridigen   \n",
              "344675                                0.00                            BERG   \n",
              "308124                                0.21              Evoke Neuroscience   \n",
              "410601                                0.31                        Immutics   \n",
              "\n",
              "                       Original name  \n",
              "373445    GLOBAVIR BIOSCIENCES, INC.  \n",
              "77094                 PERTHERA, INC.  \n",
              "420812      Evoke Neuroscience, Inc.  \n",
              "384212  SOM INNOVATION BIOTECH, S.L.  \n",
              "151745                Numerate, Inc.  \n",
              "369305                 ATOMWISE INC.  \n",
              "366295                   KYNDI, INC.  \n",
              "171352             THOUGHTSPOT, INC.  \n",
              "316091         Berkeley Lights, Inc.  \n",
              "67619             ARZEDA CORPORATION  \n",
              "28213                      FDNA INC.  \n",
              "27388          MOLECULAR HEALTH GMBH  \n",
              "7425                    uBiome, Inc.  \n",
              "336047                  Aetion, Inc.  \n",
              "52286                            nan  \n",
              "341875      Gritstone Oncology, Inc.  \n",
              "311137    Accutar Biotechnology Inc.  \n",
              "59374             E-Therapeutics PLC  \n",
              "262740                Biodesix, Inc.  \n",
              "231628                BIOVISTA, INC.  \n",
              "193470   MERIDIGEN BIOTECH CO., LTD.  \n",
              "344675                      Berg LLC  \n",
              "308124            EVOKE NEUROSCIENCE  \n",
              "410601              Immutopics, Inc.  "
            ]
          },
          "metadata": {
            "tags": []
          },
          "execution_count": 12
        }
      ]
    },
    {
      "cell_type": "code",
      "metadata": {
        "id": "_MziNl1pn1VA",
        "colab_type": "code",
        "colab": {}
      },
      "source": [
        "#Run this to establish a connection with USPTO database. \n",
        "connection = mysql.connector.connect(host='acrs-data-sources.cagyz4rarynl.us-west-2.rds.amazonaws.com',\n",
        "                                         database='PatentsView_20181127',\n",
        "                                         user='uwmis',\n",
        "                                         password='patents2020')\n",
        "\n",
        "\n"
      ],
      "execution_count": 0,
      "outputs": []
    },
    {
      "cell_type": "code",
      "metadata": {
        "id": "lW8qwnlBn1VD",
        "colab_type": "code",
        "colab": {},
        "outputId": "242d69dd-4655-4ce6-c899-884b8717ffe6"
      },
      "source": [
        "\n",
        "cursor = connection.cursor()\n",
        "li = []\n",
        "for row in comp_list:\n",
        "    print(row)\n",
        "    #If you need more detail, make changes to the query listed below\n",
        "    Query = (\"select p.patent_id , a.organization , p.year from patent p, assignee a, temp_patent_firstnamed_assignee temp where temp.patent_id = p.patent_id and temp.assignee_id = a.assignee_id and a.organization = '{}'\".format(row))\n",
        "    cursor.execute(Query)\n",
        "    records = cursor.fetchall()\n",
        "    li.append(records)\n",
        "    \n",
        "    "
      ],
      "execution_count": 0,
      "outputs": [
        {
          "output_type": "stream",
          "text": [
            "GLOBAVIR BIOSCIENCES, INC.\n",
            "PERTHERA, INC.\n",
            "Evoke Neuroscience, Inc.\n",
            "SOM INNOVATION BIOTECH, S.L.\n",
            "Numerate, Inc.\n",
            "ATOMWISE INC.\n",
            "KYNDI, INC.\n",
            "THOUGHTSPOT, INC.\n",
            "Berkeley Lights, Inc.\n",
            "ARZEDA CORPORATION\n",
            "FDNA INC.\n",
            "MOLECULAR HEALTH GMBH\n",
            "uBiome, Inc.\n",
            "Aetion, Inc.\n",
            "nan\n",
            "Gritstone Oncology, Inc.\n",
            "Accutar Biotechnology Inc.\n",
            "E-Therapeutics PLC\n",
            "Biodesix, Inc.\n",
            "BIOVISTA, INC.\n",
            "MERIDIGEN BIOTECH CO., LTD.\n",
            "Berg LLC\n",
            "EVOKE NEUROSCIENCE\n",
            "Immutopics, Inc.\n"
          ],
          "name": "stdout"
        }
      ]
    },
    {
      "cell_type": "code",
      "metadata": {
        "id": "EkInrcHPn1VH",
        "colab_type": "code",
        "colab": {}
      },
      "source": [
        "#List is not flat. this flattens the list. \n",
        "flat_list = [item for sublist in li for item in sublist]"
      ],
      "execution_count": 0,
      "outputs": []
    },
    {
      "cell_type": "code",
      "metadata": {
        "id": "-w7ENf9dn1VJ",
        "colab_type": "code",
        "colab": {}
      },
      "source": [
        "#Converting list to dataframe.\n",
        "patent_companies = pd.DataFrame(flat_list,columns=['Patent ID', 'Company Name', 'Patent Year'])"
      ],
      "execution_count": 0,
      "outputs": []
    },
    {
      "cell_type": "code",
      "metadata": {
        "id": "g8CdCcCCn1VL",
        "colab_type": "code",
        "colab": {},
        "outputId": "e07d661a-40e2-437d-aa71-81e4d08323aa"
      },
      "source": [
        "patent_companies"
      ],
      "execution_count": 0,
      "outputs": [
        {
          "output_type": "execute_result",
          "data": {
            "text/html": [
              "<div>\n",
              "<style scoped>\n",
              "    .dataframe tbody tr th:only-of-type {\n",
              "        vertical-align: middle;\n",
              "    }\n",
              "\n",
              "    .dataframe tbody tr th {\n",
              "        vertical-align: top;\n",
              "    }\n",
              "\n",
              "    .dataframe thead th {\n",
              "        text-align: right;\n",
              "    }\n",
              "</style>\n",
              "<table border=\"1\" class=\"dataframe\">\n",
              "  <thead>\n",
              "    <tr style=\"text-align: right;\">\n",
              "      <th></th>\n",
              "      <th>Patent ID</th>\n",
              "      <th>Company Name</th>\n",
              "      <th>Patent Year</th>\n",
              "    </tr>\n",
              "  </thead>\n",
              "  <tbody>\n",
              "    <tr>\n",
              "      <td>0</td>\n",
              "      <td>9321749</td>\n",
              "      <td>GLOBAVIR BIOSCIENCES, INC.</td>\n",
              "      <td>2016</td>\n",
              "    </tr>\n",
              "    <tr>\n",
              "      <td>1</td>\n",
              "      <td>9669038</td>\n",
              "      <td>GLOBAVIR BIOSCIENCES, INC.</td>\n",
              "      <td>2017</td>\n",
              "    </tr>\n",
              "    <tr>\n",
              "      <td>2</td>\n",
              "      <td>D826972</td>\n",
              "      <td>PERTHERA, INC.</td>\n",
              "      <td>2018</td>\n",
              "    </tr>\n",
              "    <tr>\n",
              "      <td>3</td>\n",
              "      <td>D827664</td>\n",
              "      <td>PERTHERA, INC.</td>\n",
              "      <td>2018</td>\n",
              "    </tr>\n",
              "    <tr>\n",
              "      <td>4</td>\n",
              "      <td>8380316</td>\n",
              "      <td>Evoke Neuroscience, Inc.</td>\n",
              "      <td>2013</td>\n",
              "    </tr>\n",
              "    <tr>\n",
              "      <td>...</td>\n",
              "      <td>...</td>\n",
              "      <td>...</td>\n",
              "      <td>...</td>\n",
              "    </tr>\n",
              "    <tr>\n",
              "      <td>109</td>\n",
              "      <td>9901637</td>\n",
              "      <td>Berg LLC</td>\n",
              "      <td>2018</td>\n",
              "    </tr>\n",
              "    <tr>\n",
              "      <td>110</td>\n",
              "      <td>9165472</td>\n",
              "      <td>EVOKE NEUROSCIENCE</td>\n",
              "      <td>2015</td>\n",
              "    </tr>\n",
              "    <tr>\n",
              "      <td>111</td>\n",
              "      <td>6838264</td>\n",
              "      <td>Immutopics, Inc.</td>\n",
              "      <td>2005</td>\n",
              "    </tr>\n",
              "    <tr>\n",
              "      <td>112</td>\n",
              "      <td>7670805</td>\n",
              "      <td>Immutopics, Inc.</td>\n",
              "      <td>2010</td>\n",
              "    </tr>\n",
              "    <tr>\n",
              "      <td>113</td>\n",
              "      <td>8012694</td>\n",
              "      <td>Immutopics, Inc.</td>\n",
              "      <td>2011</td>\n",
              "    </tr>\n",
              "  </tbody>\n",
              "</table>\n",
              "<p>114 rows × 3 columns</p>\n",
              "</div>"
            ],
            "text/plain": [
              "    Patent ID                Company Name  Patent Year\n",
              "0     9321749  GLOBAVIR BIOSCIENCES, INC.         2016\n",
              "1     9669038  GLOBAVIR BIOSCIENCES, INC.         2017\n",
              "2     D826972              PERTHERA, INC.         2018\n",
              "3     D827664              PERTHERA, INC.         2018\n",
              "4     8380316    Evoke Neuroscience, Inc.         2013\n",
              "..        ...                         ...          ...\n",
              "109   9901637                    Berg LLC         2018\n",
              "110   9165472          EVOKE NEUROSCIENCE         2015\n",
              "111   6838264            Immutopics, Inc.         2005\n",
              "112   7670805            Immutopics, Inc.         2010\n",
              "113   8012694            Immutopics, Inc.         2011\n",
              "\n",
              "[114 rows x 3 columns]"
            ]
          },
          "metadata": {
            "tags": []
          },
          "execution_count": 84
        }
      ]
    },
    {
      "cell_type": "code",
      "metadata": {
        "id": "aN0SA-T9n1VN",
        "colab_type": "code",
        "colab": {}
      },
      "source": [
        "patent_companies.to_csv('ai_drug_disc_vert_patents.csv')"
      ],
      "execution_count": 0,
      "outputs": []
    },
    {
      "cell_type": "code",
      "metadata": {
        "id": "HhhwHZXYn1VO",
        "colab_type": "code",
        "colab": {}
      },
      "source": [
        ""
      ],
      "execution_count": 0,
      "outputs": []
    }
  ]
}